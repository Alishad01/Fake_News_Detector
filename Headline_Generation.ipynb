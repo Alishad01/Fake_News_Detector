{
  "nbformat": 4,
  "nbformat_minor": 0,
  "metadata": {
    "colab": {
      "provenance": []
    },
    "kernelspec": {
      "name": "python3",
      "display_name": "Python 3"
    },
    "language_info": {
      "name": "python"
    }
  },
  "cells": [
    {
      "cell_type": "code",
      "execution_count": null,
      "metadata": {
        "id": "rY1tCBkYY26C"
      },
      "outputs": [],
      "source": [
        "!git clone https://github.com/Alishad01/Fake_News_Detector.git\n",
        "%cd Fake_News_Detector"
      ]
    },
    {
      "cell_type": "code",
      "source": [
        "!pip install transformers\n",
        "\n",
        "from transformers import pipeline\n",
        "\n",
        "generator = pipeline(\"text-generation\", model=\"gpt2\")\n",
        "\n",
        "def generate_headline(prompt=\"Breaking:\"):\n",
        "    result = generator(prompt, max_new_tokens=30, do_sample=True, top_k=50, temperature=0.9)\n",
        "    return result[0]['generated_text']\n",
        "\n",
        "generate_headline(\"Breaking:\")"
      ],
      "metadata": {
        "id": "2N17cRwBZtNN"
      },
      "execution_count": null,
      "outputs": []
    }
  ]
}